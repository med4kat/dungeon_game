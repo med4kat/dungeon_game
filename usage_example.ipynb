{
 "cells": [
  {
   "cell_type": "markdown",
   "id": "1d90b351-568d-49a5-ac6f-2f3ed991b041",
   "metadata": {},
   "source": [
    "### Basic Dungeon Generation"
   ]
  },
  {
   "cell_type": "code",
   "execution_count": 1,
   "id": "8b95e788-d36b-4906-8786-3f8fadb18a7d",
   "metadata": {},
   "outputs": [
    {
     "name": "stdout",
     "output_type": "stream",
     "text": [
      "WWWWWWWWWWWWWWWWWWWWWWWWWWWWWWWWWWWWWWWWWWWWWWWWWW\n",
      "WWWWWWWWWWWWWWWWWWWWWWWWWWWWWWWWWWWWWWWWW.....WWWW\n",
      "WWWWWWWWWWWWWWWWWWWWWWWWWWWWWWWWWWWWWWWWW.....WWWW\n",
      "WWWWWWWWWWW.....WWWWWWWWWWWWWWWWWWWWWWWWW.....WWWW\n",
      "WWWWWWWWWWW.....WWWWWWWWWWWWWWWWWWWWWWWWW.....WWWW\n",
      "WWWWWWWWWWW.....WWWWWWWWWWWWWWWWWWWWWWWWW.....WWWW\n",
      "WWWWWWWWWWW.....WWWWWWWWWWWWWWWWWWWWWWWWW.....WWWW\n",
      "WWWWWWWWWWW.....WWWWWWWWWWWWWWWWWWWWWWWWW#WWWWWWWW\n",
      "WWWWWWWWWWW#WWW+WWWWWWWWWWWWWWWWWWWWWWWWW#WWWWWWWW\n",
      "WWWWWWWWWWW#WWW#WWWWWWWWWWWWWWWWWWWWWWWWW#WWWWWWWW\n",
      "WWWWWWWWWWW#WWW#WWWWWWWWWWWWWWWWWWWWWWWWW#WWWWWWWW\n",
      "WWWW.....###WWW#####.......WWWWWWWWWWWWWW#WWWWWWWW\n",
      "WWWW.....WWWWWWWWWWW.......WWWWWWWWWWWWWW#WWWWWWWW\n",
      "WWWW.....WWWWWWWWWWW.......WW.......WWWWW+WWWWWWWW\n",
      "WWWW.....WWWWWWWWWWW.......WW.......W.......WWWWWW\n",
      "WWWW.....WWWWWWWWWWW.......WW.......W.......WWWWWW\n",
      "WWWW.....WWWWWWWWWWW.......WW.......W.......WWWWWW\n",
      "WWWW.....WWWWWWWWWWW.......#+.......W.......WWWWWW\n",
      "WWWW.....WWWWWWWWWWWWWWWWWWWW.......+.......WWWWWW\n",
      "WWWW#WWWWWWWWWWWWWWWWWWWWWWWW#WWWWWWW+WWWWWWWWWWWW\n",
      "WWWW#WWWWWWWWWWWWWWWWWWWWWWWW#WWWWWWW#WWWWWWWWWWWW\n",
      "WWW.....WWWWWWWWWWWWWWWWWWWWW#WWWWWWW#WWWWWWWWWWWW\n",
      "WWW.....W.......WWWWWWW.......WWWWWWW#WWWWWWWWWWWW\n",
      "WWW.....W.......WWWWWWW.......WWWWWWW.......WWWWWW\n",
      "WWW.....W.......WWWWWWW.......WWWWWWW.......WWWWWW\n",
      "WWW.....W.......WWWWWWW.......WWWWWWW.......WWWWWW\n",
      "WWW.....#.......WWWWWWW.......WWWWWWW.......WWWWWW\n",
      "WWWWWWWWW.......WWWWWWW.......WWWWWWW.......WWWWWW\n",
      "WWWWWWWWW.......WWWWWWWWWWWWWWWWWWWWW.......WWWWWW\n",
      "WWWWWWWWWWWWWWWWWWWWWWWWWWWWWWWWWWWWWWWWWWWWWWWWWW\n"
     ]
    }
   ],
   "source": [
    "from RDGen import generate_rooms, connect_rooms\n",
    "\n",
    "# Define parameters\n",
    "num_rooms = 10\n",
    "min_width = 5\n",
    "max_width = 8\n",
    "min_height = 5\n",
    "max_height = 8\n",
    "grid_width = 50\n",
    "grid_height = 30\n",
    "door_chance = 0.5\n",
    "\n",
    "# Generate the dungeon rooms and grid\n",
    "grid, rooms = generate_rooms(\n",
    "    num_rooms=num_rooms,\n",
    "    min_width=min_width,\n",
    "    max_width=max_width,\n",
    "    min_height=min_height,\n",
    "    max_height=max_height,\n",
    "    grid_width=grid_width,\n",
    "    grid_height=grid_height\n",
    ")\n",
    "\n",
    "# Connect the rooms with corridors\n",
    "connect_rooms(\n",
    "    grid=grid,\n",
    "    rooms=rooms,\n",
    "    door_chance=door_chance\n",
    ")\n",
    "\n",
    "# Print the dungeon grid\n",
    "for row in grid:\n",
    "    print(''.join(row))"
   ]
  },
  {
   "cell_type": "markdown",
   "id": "45e9baab-60f0-45cb-b5cd-acba7d22ea29",
   "metadata": {},
   "source": [
    "### Visualizing the Dungeon\n",
    "To visualize the dungeon in the terminal using colors (Requires the colorama libary):"
   ]
  },
  {
   "cell_type": "markdown",
   "id": "2d4f7a32-9839-4fc8-b21f-37f2f790a7f1",
   "metadata": {},
   "source": [
    "### Example: Painting the Dungeon\n",
    "Here's how you can use the grid to 'paint' the dungeon in a more visual manner:"
   ]
  },
  {
   "cell_type": "code",
   "execution_count": 4,
   "id": "24cea995-ea88-498e-badf-686a6862f5be",
   "metadata": {},
   "outputs": [
    {
     "data": {
      "image/png": "[encoded data removed]",
      "text/plain": [
       "<Figure size 720x576 with 2 Axes>"
      ]
     },
     "metadata": {
      "needs_background": "light"
     },
     "output_type": "display_data"
    }
   ],
   "source": [
    "import matplotlib.pyplot as plt\n",
    "import numpy as np\n",
    "\n",
    "# Convert the grid to a NumPy array for easier manipulation\n",
    "grid_array = np.array(grid)\n",
    "\n",
    "# Create a color map\n",
    "color_map = {\n",
    "    'W': 0,   # Walls\n",
    "    '.': 1,   # Room floors\n",
    "    '#': 2,   # Corridors\n",
    "    '+': 3    # Doors\n",
    "}\n",
    "\n",
    "# Map the grid characters to color indices\n",
    "grid_colors = np.vectorize(color_map.get)(grid_array)\n",
    "\n",
    "# Define the color palette\n",
    "cmap = plt.cm.get_cmap('Accent', 4)  # 4 discrete colors\n",
    "\n",
    "# Plot the dungeon\n",
    "plt.figure(figsize=(10, 8))\n",
    "plt.imshow(grid_colors, cmap=cmap, origin='upper')\n",
    "plt.colorbar(ticks=range(4), label='Tile Type')\n",
    "plt.clim(-0.5, 3.5)\n",
    "plt.title('Dungeon Layout')\n",
    "plt.axis('off')\n",
    "plt.show()"
   ]
  }
 ],
 "metadata": {
  "kernelspec": {
   "display_name": "Python 3 (ipykernel)",
   "language": "python",
   "name": "python3"
  },
  "language_info": {
   "codemirror_mode": {
    "name": "ipython",
    "version": 3
   },
   "file_extension": ".py",
   "mimetype": "text/x-python",
   "name": "python",
   "nbconvert_exporter": "python",
   "pygments_lexer": "ipython3",
   "version": "3.9.7"
  }
 },
 "nbformat": 4,
 "nbformat_minor": 5
}
