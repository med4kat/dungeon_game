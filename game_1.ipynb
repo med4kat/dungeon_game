{
 "cells": [
  {
   "cell_type": "code",
   "execution_count": 1,
   "id": "3f259ced-eb83-4384-947a-8f191b528c10",
   "metadata": {},
   "outputs": [
    {
     "name": "stdout",
     "output_type": "stream",
     "text": [
      "<class 'list'>\n",
      "<class 'list'>\n"
     ]
    }
   ],
   "source": [
    "from RDGen import generate_rooms, connect_rooms\n",
    "from colorama import init, Fore, Style\n",
    "\n",
    "# Initialize colorama\n",
    "init()\n",
    "\n",
    "# Define parameters\n",
    "num_rooms = 5\n",
    "min_width = 4\n",
    "max_width = 8\n",
    "min_height = 4\n",
    "max_height = 8\n",
    "grid_width = 40\n",
    "grid_height = 20\n",
    "door_chance = 0.3\n",
    "\n",
    "# Generate the dungeon\n",
    "grid, rooms = generate_rooms(\n",
    "    num_rooms=num_rooms,\n",
    "    min_width=min_width,\n",
    "    max_width=max_width,\n",
    "    min_height=min_height,\n",
    "    max_height=max_height,\n",
    "    grid_width=grid_width,\n",
    "    grid_height=grid_height\n",
    ")\n",
    "\n",
    "print(type(grid))\n",
    "print(type(rooms))\n",
    "\n",
    "# Connect the rooms\n",
    "connect_rooms(\n",
    "    grid=grid,\n",
    "    rooms=rooms,\n",
    "    door_chance=door_chance\n",
    ")\n",
    "\n",
    "# Define cell representations with colors\n",
    "cell_symbols = {\n",
    "    'W': Fore.GREEN + '#' + Style.RESET_ALL,     # Walls\n",
    "    '.': Fore.WHITE + '.' + Style.RESET_ALL,     # Rooms\n",
    "    '#': Fore.CYAN + '.' + Style.RESET_ALL,      # Corridors\n",
    "    '+': Fore.YELLOW + '+' + Style.RESET_ALL,    # Doors\n",
    "}\n"
   ]
  },
  {
   "cell_type": "code",
   "execution_count": 2,
   "id": "ae1fb9d0-a37f-46ae-9222-719e1c7c955c",
   "metadata": {},
   "outputs": [
    {
     "name": "stdout",
     "output_type": "stream",
     "text": [
      "[['W', 'W', 'W', 'W', 'W', 'W', 'W', 'W', 'W', 'W', 'W', 'W', 'W', 'W', 'W', 'W', 'W', 'W', 'W', 'W', 'W', 'W', 'W', 'W', 'W', 'W', 'W', 'W', 'W', 'W', 'W', 'W', 'W', 'W', 'W', 'W', 'W', 'W', 'W', 'W'], ['W', 'W', 'W', 'W', 'W', 'W', 'W', 'W', 'W', 'W', 'W', 'W', 'W', 'W', 'W', 'W', 'W', 'W', 'W', 'W', 'W', 'W', 'W', 'W', 'W', 'W', 'W', 'W', 'W', 'W', 'W', 'W', 'W', 'W', 'W', 'W', 'W', 'W', 'W', 'W'], ['W', 'W', 'W', 'W', 'W', '.', '.', '.', '.', '.', '.', 'W', 'W', 'W', 'W', 'W', 'W', 'W', 'W', 'W', 'W', 'W', 'W', 'W', 'W', 'W', 'W', 'W', 'W', 'W', 'W', 'W', 'W', 'W', 'W', 'W', 'W', 'W', 'W', 'W'], ['W', 'W', 'W', 'W', 'W', '.', '.', '.', '.', '.', '.', 'W', 'W', 'W', 'W', 'W', 'W', 'W', 'W', 'W', 'W', 'W', 'W', 'W', 'W', 'W', 'W', 'W', 'W', 'W', 'W', 'W', 'W', 'W', 'W', 'W', 'W', 'W', 'W', 'W'], ['W', 'W', 'W', 'W', 'W', '.', '.', '.', '.', '.', '.', 'W', 'W', 'W', 'W', 'W', 'W', 'W', 'W', 'W', 'W', 'W', 'W', 'W', 'W', 'W', 'W', 'W', 'W', 'W', 'W', 'W', 'W', 'W', 'W', 'W', 'W', 'W', 'W', 'W'], ['W', 'W', 'W', 'W', 'W', '.', '.', '.', '.', '.', '.', 'W', 'W', 'W', 'W', 'W', 'W', 'W', 'W', 'W', 'W', 'W', 'W', 'W', 'W', 'W', 'W', 'W', 'W', 'W', 'W', 'W', 'W', 'W', 'W', 'W', 'W', 'W', 'W', 'W'], ['W', 'W', 'W', 'W', 'W', '.', '.', '.', '.', '.', '.', 'W', 'W', 'W', 'W', 'W', 'W', 'W', 'W', 'W', 'W', 'W', 'W', 'W', 'W', 'W', 'W', 'W', 'W', 'W', 'W', 'W', 'W', 'W', 'W', 'W', 'W', 'W', 'W', 'W'], ['W', 'W', 'W', 'W', 'W', '.', '.', '.', '.', '.', '.', 'W', 'W', 'W', 'W', 'W', 'W', 'W', 'W', 'W', 'W', 'W', 'W', 'W', 'W', 'W', 'W', 'W', 'W', 'W', 'W', 'W', 'W', 'W', 'W', 'W', 'W', 'W', 'W', 'W'], ['W', 'W', 'W', 'W', 'W', 'W', '#', 'W', 'W', 'W', 'W', 'W', 'W', 'W', 'W', 'W', 'W', 'W', 'W', 'W', 'W', 'W', 'W', 'W', 'W', 'W', 'W', 'W', 'W', 'W', 'W', 'W', 'W', 'W', 'W', 'W', 'W', 'W', 'W', 'W'], ['W', 'W', 'W', 'W', 'W', 'W', '#', 'W', 'W', 'W', 'W', 'W', 'W', 'W', 'W', 'W', 'W', 'W', 'W', 'W', 'W', 'W', 'W', 'W', 'W', 'W', 'W', '.', '.', '.', '.', 'W', 'W', 'W', 'W', 'W', 'W', 'W', 'W', 'W']]\n",
      "[{'x': 33, 'y': 10, 'width': 4, 'height': 6}, {'x': 5, 'y': 2, 'width': 6, 'height': 6}]\n"
     ]
    }
   ],
   "source": [
    "# Access items in the list \n",
    "first_item_grid = grid[0:10]\n",
    "print(first_item_grid)\n",
    "\n",
    "first_item_room = rooms[0:2]\n",
    "print(first_item_room)"
   ]
  },
  {
   "cell_type": "code",
   "execution_count": 3,
   "id": "3e19334e-eca9-448e-9fed-4e60d9e715f4",
   "metadata": {},
   "outputs": [
    {
     "name": "stdout",
     "output_type": "stream",
     "text": [
      "[['W', 'W', 'W', 'W', 'W', 'W', 'W', 'W', 'W', 'W', 'W', 'W', 'W', 'W', 'W', 'W', 'W', 'W', 'W', 'W', 'W', 'W', 'W', 'W', 'W', 'W', 'W', 'W', 'W', 'W', 'W', 'W', 'W', 'W', 'W', 'W', 'W', 'W', 'W', 'W'], ['W', 'W', 'W', 'W', 'W', 'W', 'W', 'W', 'W', 'W', 'W', 'W', 'W', 'W', 'W', 'W', 'W', 'W', 'W', 'W', 'W', 'W', 'W', 'W', 'W', 'W', 'W', 'W', 'W', 'W', 'W', 'W', 'W', 'W', 'W', 'W', 'W', 'W', 'W', 'W'], ['W', 'W', 'W', 'W', 'W', '*', '.', '.', '.', '.', '.', 'W', 'W', 'W', 'W', 'W', 'W', 'W', 'W', 'W', 'W', 'W', 'W', 'W', 'W', 'W', 'W', 'W', 'W', 'W', 'W', 'W', 'W', 'W', 'W', 'W', 'W', 'W', 'W', 'W'], ['W', 'W', 'W', 'W', 'W', '.', '.', '.', '.', '.', '.', 'W', 'W', 'W', 'W', 'W', 'W', 'W', 'W', 'W', 'W', 'W', 'W', 'W', 'W', 'W', 'W', 'W', 'W', 'W', 'W', 'W', 'W', 'W', 'W', 'W', 'W', 'W', 'W', 'W'], ['W', 'W', 'W', 'W', 'W', '.', '.', '.', '.', '.', '.', 'W', 'W', 'W', 'W', 'W', 'W', 'W', 'W', 'W', 'W', 'W', 'W', 'W', 'W', 'W', 'W', 'W', 'W', 'W', 'W', 'W', 'W', 'W', 'W', 'W', 'W', 'W', 'W', 'W'], ['W', 'W', 'W', 'W', 'W', '.', '.', '.', '.', '.', '.', 'W', 'W', 'W', 'W', 'W', 'W', 'W', 'W', 'W', 'W', 'W', 'W', 'W', 'W', 'W', 'W', 'W', 'W', 'W', 'W', 'W', 'W', 'W', 'W', 'W', 'W', 'W', 'W', 'W'], ['W', 'W', 'W', 'W', 'W', '.', '.', '.', '.', '.', '.', 'W', 'W', 'W', 'W', 'W', 'W', 'W', 'W', 'W', 'W', 'W', 'W', 'W', 'W', 'W', 'W', 'W', 'W', 'W', 'W', 'W', 'W', 'W', 'W', 'W', 'W', 'W', 'W', 'W'], ['W', 'W', 'W', 'W', 'W', '.', '.', '.', '.', '.', '.', 'W', 'W', 'W', 'W', 'W', 'W', 'W', 'W', 'W', 'W', 'W', 'W', 'W', 'W', 'W', 'W', 'W', 'W', 'W', 'W', 'W', 'W', 'W', 'W', 'W', 'W', 'W', 'W', 'W'], ['W', 'W', 'W', 'W', 'W', 'W', '#', 'W', 'W', 'W', 'W', 'W', 'W', 'W', 'W', 'W', 'W', 'W', 'W', 'W', 'W', 'W', 'W', 'W', 'W', 'W', 'W', 'W', 'W', 'W', 'W', 'W', 'W', 'W', 'W', 'W', 'W', 'W', 'W', 'W'], ['W', 'W', 'W', 'W', 'W', 'W', '#', 'W', 'W', 'W', 'W', 'W', 'W', 'W', 'W', 'W', 'W', 'W', 'W', 'W', 'W', 'W', 'W', 'W', 'W', 'W', 'W', '.', '.', '.', '.', 'W', 'W', 'W', 'W', 'W', 'W', 'W', 'W', 'W']]\n"
     ]
    }
   ],
   "source": [
    "# Placing a character\n",
    "found = False  # Flag to track if the first occurrence has been replaced\n",
    "\n",
    "for sublist in grid:\n",
    "    for w in range(len(sublist)):\n",
    "        if sublist[w] == '.':\n",
    "            sublist[w] = '*'\n",
    "            found = True \n",
    "            break # Break the inner loop after replacing the first occurrence\n",
    "        if found:\n",
    "            break # Break the outer loop after finding and replacing the first occurrence\n",
    "\n",
    "print(first_item_grid)"
   ]
  },
  {
   "cell_type": "code",
   "execution_count": 5,
   "id": "b0abadec-2d17-4952-ac7e-7e8dd32665b8",
   "metadata": {},
   "outputs": [
    {
     "name": "stdout",
     "output_type": "stream",
     "text": [
      "########################################\n",
      "########################################\n",
      "##### .....#############################\n",
      "#####......#############################\n",
      "#####......#############################\n",
      "#####......#############################\n",
      "#####......#############################\n",
      "#####......#############################\n",
      "######.#################################\n",
      "######.####################....#########\n",
      "######.####################....+.....###\n",
      "######.##############.....+....##....###\n",
      "######.##############....##....##....###\n",
      "######.....##########....##....##....###\n",
      "######.....##########....##....##....###\n",
      "######.....##########....########....###\n",
      "######.....##########....###############\n",
      "######.....+.............###############\n",
      "######.....#############################\n",
      "########################################\n"
     ]
    }
   ],
   "source": [
    "# Print the grid with colors\n",
    "for row in grid:\n",
    "    line = ''.join(cell_symbols.get(cell, ' ') for cell in row)\n",
    "    print(line)"
   ]
  },
  {
   "cell_type": "code",
   "execution_count": null,
   "id": "3c2be78d-8c61-4e24-9e2c-809f6ac47193",
   "metadata": {},
   "outputs": [],
   "source": []
  }
 ],
 "metadata": {
  "kernelspec": {
   "display_name": "Python 3 (ipykernel)",
   "language": "python",
   "name": "python3"
  },
  "language_info": {
   "codemirror_mode": {
    "name": "ipython",
    "version": 3
   },
   "file_extension": ".py",
   "mimetype": "text/x-python",
   "name": "python",
   "nbconvert_exporter": "python",
   "pygments_lexer": "ipython3",
   "version": "3.9.7"
  }
 },
 "nbformat": 4,
 "nbformat_minor": 5
}
